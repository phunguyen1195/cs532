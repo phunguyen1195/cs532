{
 "cells": [
  {
   "cell_type": "markdown",
   "id": "7e727d5c-98d5-4dae-abf3-08fa87aa56b1",
   "metadata": {
    "jp-MarkdownHeadingCollapsed": true
   },
   "source": [
    "# Library"
   ]
  },
  {
   "cell_type": "code",
   "execution_count": 6,
   "id": "a710b52a-d500-46ec-8314-65b677bc01d7",
   "metadata": {},
   "outputs": [],
   "source": [
    "import random\n",
    "import matplotlib.pyplot as plt"
   ]
  },
  {
   "cell_type": "markdown",
   "id": "71899cd2-bd20-4d49-8cf4-b76866617925",
   "metadata": {},
   "source": [
    "# Function"
   ]
  },
  {
   "cell_type": "code",
   "execution_count": 110,
   "id": "5ee7a770-4b62-4c13-8e0c-1653fcde0a5c",
   "metadata": {},
   "outputs": [],
   "source": [
    "class Dog ():\n",
    "    def __init__ (self, dog_color) -> None:\n",
    "        self.type = 'Dog'\n",
    "        self.weight = 60\n",
    "        self.favorite_food = ['steak', 'kibble']\n",
    "        self.color = dog_color\n",
    "        self.profit = self.update_price()\n",
    "\n",
    "    def diet (self):\n",
    "        self.weight -= 5\n",
    "\n",
    "    def update_price (self):\n",
    "        if self.color == \"brown\":\n",
    "            return 80\n",
    "        elif self.color == \"black\":\n",
    "            return 150\n",
    "        elif self.color == \"white\":\n",
    "            return 3000"
   ]
  },
  {
   "cell_type": "code",
   "execution_count": 111,
   "id": "db3c293e-fd32-4af3-a799-849fc13a432c",
   "metadata": {},
   "outputs": [],
   "source": [
    "class Cat ():\n",
    "    def __init__ (self, color) -> None:\n",
    "        self.type = 'Cat'\n",
    "        self.weight = 8\n",
    "        self.favorite_food = ['tuna', 'wet food']\n",
    "        self.color = color\n",
    "        self.profit = 50\n",
    "\n",
    "    def update_price (self):\n",
    "        if self.weight > 5:\n",
    "            self.profit = 60\n",
    "        else:\n",
    "            self.profit = 80"
   ]
  },
  {
   "cell_type": "code",
   "execution_count": 112,
   "id": "cd4414da-9f7f-44f3-baf5-55030d8ec610",
   "metadata": {},
   "outputs": [],
   "source": [
    "class Crab ():\n",
    "    def __init__ (self, weight, favorite_food, color, profit) -> None:\n",
    "        self.type = 'Crab'\n",
    "        self.weight = weight\n",
    "        self.favorite_food = favorite_food\n",
    "        self.color = color\n",
    "        self.profit = profit\n"
   ]
  },
  {
   "cell_type": "code",
   "execution_count": 137,
   "id": "2ec1334a-780b-4d13-8611-778ccebda1af",
   "metadata": {},
   "outputs": [],
   "source": [
    "# metric 3 dogs\n",
    "# metric 5 cats\n",
    "# metric 4 crabs\n",
    "\n",
    "class Pet_shop ():\n",
    "    def __init__ (self) -> None:\n",
    "        self.shop_keeping = []\n",
    "        \n",
    "\n",
    "    def data_to_dict (self,pet):\n",
    "        temp_dict = {}\n",
    "        temp_dict['type'] = pet.type\n",
    "        temp_dict['weight'] = pet.weight\n",
    "        temp_dict['favorite_food'] = pet.favorite_food\n",
    "        temp_dict['color'] = pet.color\n",
    "        temp_dict['profit'] = pet.profit\n",
    "        return temp_dict\n",
    "\n",
    "    def test (self ):\n",
    "        # self.shop_keeping.append(self.data_to_dict(self.pet))\n",
    "        print (self.shop_keeping)\n",
    "\n",
    "    def add_pet(self, pet):\n",
    "        self.pet = pet\n",
    "        self.shop_keeping.append(self.data_to_dict(pet))\n",
    "\n",
    "    def get_profit (self, type=None):\n",
    "        if type == None: \n",
    "            temp = []\n",
    "            for i in self.shop_keeping:\n",
    "                temp.append(i['profit'])\n",
    "            return sum(temp)\n",
    "        else:\n",
    "            temp = []\n",
    "            for i in self.shop_keeping:\n",
    "                if i['type'] == type:\n",
    "                    temp.append(i['profit'])\n",
    "            return sum(temp)"
   ]
  },
  {
   "cell_type": "markdown",
   "id": "a5bf857e-29ac-425f-b25f-a629eb93d0df",
   "metadata": {},
   "source": [
    "# Execution"
   ]
  },
  {
   "cell_type": "code",
   "execution_count": 138,
   "id": "bb99b334-1e65-4b7c-9db9-fd48be0d258a",
   "metadata": {},
   "outputs": [],
   "source": [
    "test = Pet_shop()"
   ]
  },
  {
   "cell_type": "code",
   "execution_count": 139,
   "id": "5578f036-3565-4a3c-854b-420a049f6ac4",
   "metadata": {},
   "outputs": [],
   "source": [
    "test.add_pet(German_shep)"
   ]
  },
  {
   "cell_type": "code",
   "execution_count": 140,
   "id": "d859a21c-8101-47fd-beda-f6da14d93372",
   "metadata": {},
   "outputs": [
    {
     "name": "stdout",
     "output_type": "stream",
     "text": [
      "[{'type': 'Dog', 'weight': 55, 'favorite_food': ['steak', 'kibble'], 'color': 'white', 'profit': 3000}]\n"
     ]
    }
   ],
   "source": [
    "test.test()"
   ]
  },
  {
   "cell_type": "code",
   "execution_count": 141,
   "id": "f10bcfcd-7543-42e0-90a0-bd3a32a738f2",
   "metadata": {},
   "outputs": [],
   "source": [
    "test.add_pet(pinchy)"
   ]
  },
  {
   "cell_type": "code",
   "execution_count": 142,
   "id": "4db90c38-7f30-4359-a2d8-def2e9cc6724",
   "metadata": {},
   "outputs": [
    {
     "name": "stdout",
     "output_type": "stream",
     "text": [
      "[{'type': 'Dog', 'weight': 55, 'favorite_food': ['steak', 'kibble'], 'color': 'white', 'profit': 3000}, {'type': 'Crab', 'weight': 30, 'favorite_food': 'shrimp', 'color': 'red', 'profit': 5}]\n"
     ]
    }
   ],
   "source": [
    "test.test()"
   ]
  },
  {
   "cell_type": "code",
   "execution_count": 145,
   "id": "32895cca-624c-4d96-a418-d549b22ef1a1",
   "metadata": {},
   "outputs": [
    {
     "data": {
      "text/plain": [
       "5"
      ]
     },
     "execution_count": 145,
     "metadata": {},
     "output_type": "execute_result"
    }
   ],
   "source": [
    "test.get_profit(type = 'Crab')"
   ]
  },
  {
   "cell_type": "markdown",
   "id": "7ea10b1a-df89-473c-a32c-1626646e4c56",
   "metadata": {},
   "source": [
    "## Dog"
   ]
  },
  {
   "cell_type": "code",
   "execution_count": null,
   "id": "046b582c-f94c-4ddc-aeaf-79d6b218d7bc",
   "metadata": {},
   "outputs": [],
   "source": []
  },
  {
   "cell_type": "code",
   "execution_count": 115,
   "id": "aad217e5-134e-4b79-8608-287e2784bf71",
   "metadata": {},
   "outputs": [],
   "source": [
    "German_shep = Dog ('brown')"
   ]
  },
  {
   "cell_type": "code",
   "execution_count": 116,
   "id": "8a5173a3-d042-475d-98b8-32e3662bb933",
   "metadata": {},
   "outputs": [
    {
     "data": {
      "text/plain": [
       "60"
      ]
     },
     "execution_count": 116,
     "metadata": {},
     "output_type": "execute_result"
    }
   ],
   "source": [
    "German_shep.weight"
   ]
  },
  {
   "cell_type": "code",
   "execution_count": 117,
   "id": "d742ef5f-615c-499b-bcbd-af25b5908c8c",
   "metadata": {},
   "outputs": [],
   "source": [
    "German_shep.diet()"
   ]
  },
  {
   "cell_type": "code",
   "execution_count": 118,
   "id": "0285c231-15a9-4054-bbed-9a82f40e8bec",
   "metadata": {},
   "outputs": [
    {
     "data": {
      "text/plain": [
       "55"
      ]
     },
     "execution_count": 118,
     "metadata": {},
     "output_type": "execute_result"
    }
   ],
   "source": [
    "German_shep.weight"
   ]
  },
  {
   "cell_type": "code",
   "execution_count": 119,
   "id": "d706fc62-fee9-4ecc-9c7b-bd301af36003",
   "metadata": {},
   "outputs": [
    {
     "data": {
      "text/plain": [
       "'brown'"
      ]
     },
     "execution_count": 119,
     "metadata": {},
     "output_type": "execute_result"
    }
   ],
   "source": [
    "German_shep.color"
   ]
  },
  {
   "cell_type": "code",
   "execution_count": 120,
   "id": "c70d8be5-8bf0-491b-8476-25d7ef84206c",
   "metadata": {},
   "outputs": [
    {
     "name": "stdout",
     "output_type": "stream",
     "text": [
      "80\n"
     ]
    }
   ],
   "source": [
    "print (German_shep.profit)"
   ]
  },
  {
   "cell_type": "code",
   "execution_count": 121,
   "id": "2d82219f-77b1-4fde-9c0e-1e9dcfe6fc95",
   "metadata": {},
   "outputs": [],
   "source": [
    "German_shep.color = 'white'\n",
    "German_shep.profit = German_shep.update_price()"
   ]
  },
  {
   "cell_type": "code",
   "execution_count": 122,
   "id": "8e59157e-af95-481d-863b-4c165762209c",
   "metadata": {},
   "outputs": [
    {
     "data": {
      "text/plain": [
       "3000"
      ]
     },
     "execution_count": 122,
     "metadata": {},
     "output_type": "execute_result"
    }
   ],
   "source": [
    "German_shep.profit"
   ]
  },
  {
   "cell_type": "markdown",
   "id": "62991e55-2721-493c-a118-8d499482cddd",
   "metadata": {
    "jp-MarkdownHeadingCollapsed": true
   },
   "source": [
    "## Cat"
   ]
  },
  {
   "cell_type": "code",
   "execution_count": 62,
   "id": "0ca34b75-38b7-4502-a1cb-9d2285440f62",
   "metadata": {},
   "outputs": [],
   "source": [
    "tabby = Cat ('rainbow')"
   ]
  },
  {
   "cell_type": "code",
   "execution_count": 63,
   "id": "333ff29a-2414-4b2b-95df-a24dff3a5926",
   "metadata": {},
   "outputs": [
    {
     "name": "stdout",
     "output_type": "stream",
     "text": [
      "50\n"
     ]
    }
   ],
   "source": [
    "print (tabby.profit)"
   ]
  },
  {
   "cell_type": "code",
   "execution_count": 64,
   "id": "a0cc5b30-e41e-4c46-ab11-3b43c187b9f4",
   "metadata": {},
   "outputs": [],
   "source": [
    "tabby.update_price()"
   ]
  },
  {
   "cell_type": "code",
   "execution_count": 65,
   "id": "3d78c9e1-f2d2-4e65-a312-9f7a4ad13a46",
   "metadata": {},
   "outputs": [
    {
     "name": "stdout",
     "output_type": "stream",
     "text": [
      "60\n"
     ]
    }
   ],
   "source": [
    "print (tabby.profit)"
   ]
  },
  {
   "cell_type": "markdown",
   "id": "9b047759-02a9-45fc-9eea-7dbc681efe9b",
   "metadata": {},
   "source": [
    "## Crab"
   ]
  },
  {
   "cell_type": "code",
   "execution_count": 123,
   "id": "ba08dbc5-7220-447a-8791-358902d21ba9",
   "metadata": {},
   "outputs": [],
   "source": [
    "pinchy = Crab (30, 'shrimp', 'red', 5)"
   ]
  },
  {
   "cell_type": "code",
   "execution_count": 70,
   "id": "10340934-9faf-4453-89e3-b1a150da0592",
   "metadata": {},
   "outputs": [
    {
     "name": "stdout",
     "output_type": "stream",
     "text": [
      "5\n"
     ]
    }
   ],
   "source": [
    "print (pinchy.profit)"
   ]
  },
  {
   "cell_type": "code",
   "execution_count": 71,
   "id": "bb466b2d-c78b-4a60-8a77-3f44eeb2b443",
   "metadata": {},
   "outputs": [],
   "source": [
    "fish_fry = Crab(20, 'algae', 'black', 8)"
   ]
  },
  {
   "cell_type": "code",
   "execution_count": 72,
   "id": "58f3cc34-2ca8-41a2-85bf-e06be58b3f2a",
   "metadata": {},
   "outputs": [
    {
     "data": {
      "text/plain": [
       "8"
      ]
     },
     "execution_count": 72,
     "metadata": {},
     "output_type": "execute_result"
    }
   ],
   "source": [
    "fish_fry.profit"
   ]
  },
  {
   "cell_type": "code",
   "execution_count": null,
   "id": "10f623b3-1a2e-4d24-a323-fdf4f1a725a3",
   "metadata": {},
   "outputs": [],
   "source": []
  }
 ],
 "metadata": {
  "kernelspec": {
   "display_name": "Python 3 (ipykernel)",
   "language": "python",
   "name": "python3"
  },
  "language_info": {
   "codemirror_mode": {
    "name": "ipython",
    "version": 3
   },
   "file_extension": ".py",
   "mimetype": "text/x-python",
   "name": "python",
   "nbconvert_exporter": "python",
   "pygments_lexer": "ipython3",
   "version": "3.11.7"
  }
 },
 "nbformat": 4,
 "nbformat_minor": 5
}
