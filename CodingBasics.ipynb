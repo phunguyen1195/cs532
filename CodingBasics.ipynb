{
 "cells": [
  {
   "cell_type": "code",
   "execution_count": 32,
   "id": "b748ae56-f7bc-4ce5-b1da-f6005b9e75db",
   "metadata": {},
   "outputs": [],
   "source": [
    "import random"
   ]
  },
  {
   "cell_type": "code",
   "execution_count": 7,
   "id": "3bb88fdc-a19d-45f0-829e-3589b52998bf",
   "metadata": {},
   "outputs": [],
   "source": [
    "num_dogs = 22\n",
    "num_crabs = 13\n",
    "num_cats = 22"
   ]
  },
  {
   "cell_type": "code",
   "execution_count": 4,
   "id": "c5909469-7e1f-47cb-b373-f30a9eb088f8",
   "metadata": {},
   "outputs": [
    {
     "name": "stdout",
     "output_type": "stream",
     "text": [
      "1\n"
     ]
    }
   ],
   "source": [
    "print (int(num_dogs>num_crabs))"
   ]
  },
  {
   "cell_type": "code",
   "execution_count": 5,
   "id": "68cb4831-d6b5-4c9c-bc03-d1e6803de938",
   "metadata": {},
   "outputs": [
    {
     "name": "stdout",
     "output_type": "stream",
     "text": [
      "False\n"
     ]
    }
   ],
   "source": [
    "print (num_dogs == num_crabs)"
   ]
  },
  {
   "cell_type": "code",
   "execution_count": 6,
   "id": "44e78b5a-2f6e-4b67-80d2-6fbdcefd2f42",
   "metadata": {},
   "outputs": [
    {
     "name": "stdout",
     "output_type": "stream",
     "text": [
      "0\n"
     ]
    }
   ],
   "source": [
    "print (int(num_dogs == num_crabs))"
   ]
  },
  {
   "cell_type": "code",
   "execution_count": 10,
   "id": "3a756120-e320-4f1b-b8d8-95e0b72ab3bf",
   "metadata": {},
   "outputs": [
    {
     "name": "stdout",
     "output_type": "stream",
     "text": [
      "True\n"
     ]
    }
   ],
   "source": [
    "print (num_dogs >= num_cats)"
   ]
  },
  {
   "cell_type": "code",
   "execution_count": 12,
   "id": "b3d90f98-e65a-482e-a991-5bae91f3792f",
   "metadata": {},
   "outputs": [
    {
     "name": "stdout",
     "output_type": "stream",
     "text": [
      "False\n"
     ]
    }
   ],
   "source": [
    "print (num_cats <= num_crabs)"
   ]
  },
  {
   "cell_type": "code",
   "execution_count": 14,
   "id": "96916518-4927-4d97-8645-29fc780ffcf5",
   "metadata": {},
   "outputs": [
    {
     "name": "stdout",
     "output_type": "stream",
     "text": [
      "True\n"
     ]
    }
   ],
   "source": [
    "print (num_cats < num_dogs or num_dogs > num_crabs)"
   ]
  },
  {
   "cell_type": "code",
   "execution_count": 15,
   "id": "8c91bc8c-7b8f-476b-84c2-f4ce60910564",
   "metadata": {},
   "outputs": [
    {
     "name": "stdout",
     "output_type": "stream",
     "text": [
      "True\n"
     ]
    }
   ],
   "source": [
    "print (num_cats == num_dogs and num_dogs > num_crabs)"
   ]
  },
  {
   "cell_type": "code",
   "execution_count": 19,
   "id": "ef6f5fac-9879-469c-9c2f-2c794d527bf9",
   "metadata": {},
   "outputs": [
    {
     "name": "stdout",
     "output_type": "stream",
     "text": [
      "True\n"
     ]
    }
   ],
   "source": [
    "print (num_cats == num_dogs and num_dogs > num_crabs and num_cats < num_crabs)"
   ]
  },
  {
   "cell_type": "code",
   "execution_count": 20,
   "id": "70983127-ba29-414c-87f7-04ecdfb1a7b2",
   "metadata": {},
   "outputs": [
    {
     "name": "stdout",
     "output_type": "stream",
     "text": [
      "True\n"
     ]
    }
   ],
   "source": [
    "print ((num_cats == num_dogs and num_dogs > num_crabs) or num_cats < num_crabs)"
   ]
  },
  {
   "cell_type": "markdown",
   "id": "bce2fe53-fdf5-48d2-82f7-4079eb2501c3",
   "metadata": {},
   "source": [
    "If Else Statements"
   ]
  },
  {
   "cell_type": "code",
   "execution_count": 22,
   "id": "4539f4ad-74de-4ac0-8144-209b04fd460f",
   "metadata": {},
   "outputs": [],
   "source": [
    "if num_cats < num_crabs:\n",
    "    print ('crab extinction')"
   ]
  },
  {
   "cell_type": "code",
   "execution_count": 29,
   "id": "d2477810-ff7a-4f04-aae6-6981d0d81d10",
   "metadata": {},
   "outputs": [
    {
     "name": "stdout",
     "output_type": "stream",
     "text": [
      "crab extinction\n"
     ]
    }
   ],
   "source": [
    "num_crabs = 22\n",
    "num_cats = 22\n",
    "if num_cats >= num_crabs:\n",
    "    print ('crab extinction')\n",
    "elif num_cats <= num_crabs:\n",
    "    print ('lobster party')"
   ]
  },
  {
   "cell_type": "code",
   "execution_count": 31,
   "id": "b3bd72e0-f9b2-473b-a431-2077834b4940",
   "metadata": {},
   "outputs": [
    {
     "name": "stdout",
     "output_type": "stream",
     "text": [
      "peace and harmony\n"
     ]
    }
   ],
   "source": [
    "if num_dogs > num_cats:\n",
    "    print (\"all dogs go to heaven\")\n",
    "elif num_dogs < num_cats:\n",
    "    print (\"cats the musical\")\n",
    "else:\n",
    "    print(\"peace and harmony\")"
   ]
  },
  {
   "cell_type": "markdown",
   "id": "4ce84816-2444-4609-8ed8-87b671cc4bf9",
   "metadata": {},
   "source": [
    "Library usage and Simulation"
   ]
  },
  {
   "cell_type": "code",
   "execution_count": 34,
   "id": "9b995316-13d5-4d35-bf9b-c9da72cceb9c",
   "metadata": {},
   "outputs": [
    {
     "name": "stdout",
     "output_type": "stream",
     "text": [
      "2.2151578018605833\n"
     ]
    }
   ],
   "source": [
    "print (random.uniform(2,5))"
   ]
  },
  {
   "cell_type": "code",
   "execution_count": 38,
   "id": "6a8fbe88-d4e3-485e-92b2-5ad9ca74986f",
   "metadata": {},
   "outputs": [],
   "source": [
    "def flip_coin ():\n",
    "    flip = random.uniform(0,1)\n",
    "    if flip < 0.5:\n",
    "        return 'tails'\n",
    "    else:\n",
    "        return 'heads'"
   ]
  },
  {
   "cell_type": "code",
   "execution_count": 42,
   "id": "404abe28-828a-430d-a8a4-c4c9f9d093b2",
   "metadata": {},
   "outputs": [
    {
     "data": {
      "text/plain": [
       "'tails'"
      ]
     },
     "execution_count": 42,
     "metadata": {},
     "output_type": "execute_result"
    }
   ],
   "source": [
    "flip_coin()"
   ]
  },
  {
   "cell_type": "markdown",
   "id": "3c5ea494-2935-429f-aafe-20aa9fcedd2d",
   "metadata": {},
   "source": [
    "Simulating Data"
   ]
  },
  {
   "cell_type": "code",
   "execution_count": 43,
   "id": "d4db228e-a8d5-44c2-b1ab-111f09173f8e",
   "metadata": {},
   "outputs": [],
   "source": [
    "flip_data = [flip_coin() for i in range(10)]"
   ]
  },
  {
   "cell_type": "code",
   "execution_count": 44,
   "id": "effe38e8-50d5-4b02-a289-802e1595b2cc",
   "metadata": {},
   "outputs": [
    {
     "data": {
      "text/plain": [
       "['tails',\n",
       " 'heads',\n",
       " 'heads',\n",
       " 'tails',\n",
       " 'tails',\n",
       " 'tails',\n",
       " 'heads',\n",
       " 'tails',\n",
       " 'tails',\n",
       " 'tails']"
      ]
     },
     "execution_count": 44,
     "metadata": {},
     "output_type": "execute_result"
    }
   ],
   "source": [
    "flip_data"
   ]
  },
  {
   "cell_type": "code",
   "execution_count": 45,
   "id": "2f583537-6297-4b1a-ab20-2fca9bc49f2f",
   "metadata": {},
   "outputs": [],
   "source": [
    "flip_data = [flip_coin() for i in range(1000000)]"
   ]
  },
  {
   "cell_type": "code",
   "execution_count": 47,
   "id": "9314ef17-db4f-42e6-a35c-39b31f93cc03",
   "metadata": {},
   "outputs": [],
   "source": [
    "temp = 0\n",
    "for i in flip_data:\n",
    "    if i == \"heads\":\n",
    "        temp = temp + 1"
   ]
  },
  {
   "cell_type": "code",
   "execution_count": 48,
   "id": "14ce1df3-9123-4bdb-8693-fa51bfb0edce",
   "metadata": {},
   "outputs": [
    {
     "data": {
      "text/plain": [
       "500556"
      ]
     },
     "execution_count": 48,
     "metadata": {},
     "output_type": "execute_result"
    }
   ],
   "source": [
    "temp"
   ]
  },
  {
   "cell_type": "code",
   "execution_count": 54,
   "id": "31799e79-c07e-4031-9fc1-203e5306c275",
   "metadata": {
    "scrolled": true
   },
   "outputs": [
    {
     "data": {
      "text/plain": [
       "500556"
      ]
     },
     "execution_count": 54,
     "metadata": {},
     "output_type": "execute_result"
    }
   ],
   "source": [
    "len([x for x in flip_data if x == 'heads'])"
   ]
  },
  {
   "cell_type": "code",
   "execution_count": 55,
   "id": "ac91b09a-b497-4bae-a4dd-43e6c4793734",
   "metadata": {},
   "outputs": [
    {
     "data": {
      "text/plain": [
       "500556"
      ]
     },
     "execution_count": 55,
     "metadata": {},
     "output_type": "execute_result"
    }
   ],
   "source": [
    "flip_data.count('heads')"
   ]
  },
  {
   "cell_type": "code",
   "execution_count": 65,
   "id": "f8fc0343-9c28-4b60-a006-b5037af9607d",
   "metadata": {},
   "outputs": [],
   "source": [
    "def flips_until_heads(data_list, num_data_points):\n",
    "    for i in range(num_data_points):\n",
    "        tails_count = 0\n",
    "        flip = flip_coin()\n",
    "        while flip == 'tails':\n",
    "            flip = flip_coin()\n",
    "            tails_count += 1\n",
    "        data_list.append(tails_count)\n",
    "    return data_list"
   ]
  },
  {
   "cell_type": "code",
   "execution_count": 75,
   "id": "ede1766f-9093-4829-9442-8400a62b320d",
   "metadata": {},
   "outputs": [
    {
     "name": "stdout",
     "output_type": "stream",
     "text": [
      "[0, 0, 0, 0, 1, 0]\n"
     ]
    }
   ],
   "source": [
    "num_tails = []\n",
    "print (flips_until_heads(num_tails,6))"
   ]
  },
  {
   "cell_type": "code",
   "execution_count": null,
   "id": "20581184-45d1-469d-8002-286bc017b0c2",
   "metadata": {},
   "outputs": [],
   "source": []
  }
 ],
 "metadata": {
  "kernelspec": {
   "display_name": "Python 3 (ipykernel)",
   "language": "python",
   "name": "python3"
  },
  "language_info": {
   "codemirror_mode": {
    "name": "ipython",
    "version": 3
   },
   "file_extension": ".py",
   "mimetype": "text/x-python",
   "name": "python",
   "nbconvert_exporter": "python",
   "pygments_lexer": "ipython3",
   "version": "3.11.7"
  }
 },
 "nbformat": 4,
 "nbformat_minor": 5
}
