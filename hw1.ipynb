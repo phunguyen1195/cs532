{
 "cells": [
  {
   "cell_type": "code",
   "execution_count": 100,
   "id": "94bf336c-e6a4-4a83-8d52-dfe1cd625214",
   "metadata": {},
   "outputs": [],
   "source": [
    "import random"
   ]
  },
  {
   "cell_type": "code",
   "execution_count": 115,
   "id": "02cac6fd-33a2-4226-929e-113a83ffea71",
   "metadata": {},
   "outputs": [],
   "source": [
    "'''\n",
    "Create a function that that takes in two integers, \n",
    "a person’s height (in inches) and weight (in lbs), and then returns their BMI result as a string based on the following table:\n",
    "'''\n",
    "\n",
    "def BMI (w,h):\n",
    "\n",
    "    if w < 0 or h < 0:\n",
    "\n",
    "        print ('wrong input')\n",
    "        \n",
    "    else:\n",
    "        result = ''\n",
    "    \n",
    "        if 0 <= w <= 100:\n",
    "            if h >= 49:\n",
    "                result = 'Underweight'\n",
    "            else:\n",
    "                result = 'Average'\n",
    "            \n",
    "        elif 100 < w <= 180:\n",
    "            if 0 <= h <= 48:\n",
    "                result = 'Overweight'\n",
    "            elif 49 <= h <= 72:\n",
    "                result = 'Average'\n",
    "            else:\n",
    "                result = 'Underweight'\n",
    "    \n",
    "        else:\n",
    "            if h <= 72:\n",
    "                result = 'Overweight'\n",
    "            else:\n",
    "                result = 'Average'\n",
    "\n",
    "        return result\n"
   ]
  },
  {
   "cell_type": "code",
   "execution_count": 120,
   "id": "d89b453e-582e-45a5-aad8-518d69cadf48",
   "metadata": {},
   "outputs": [
    {
     "data": {
      "text/plain": [
       "'Average'"
      ]
     },
     "execution_count": 120,
     "metadata": {},
     "output_type": "execute_result"
    }
   ],
   "source": [
    "BMI(181,73)"
   ]
  },
  {
   "cell_type": "code",
   "execution_count": 97,
   "id": "5357556f-6ed0-49d9-8db5-a4ce2d783709",
   "metadata": {},
   "outputs": [],
   "source": [
    "'''\n",
    "A basketball player has a certain percentage chance of making a shot. He needs to make his next three shots for his team to win the game. \n",
    "Create a function that takes a player’s percentage (for example 0.435) as an input and then randomly simulates whether they make three shots. \n",
    "If they make all three print “WINNER”, if he misses any of them print “HE MISSED”.\n",
    "\n",
    "source: https://docs.python.org/3/library/random.html#discrete-distributions\n",
    "'''\n",
    "\n",
    "\n",
    "def win_or_lose (p):\n",
    "    \n",
    "    if sum(random.random() < p for i in range(3)) == 3:\n",
    "        print ('WINNER')\n",
    "    else:\n",
    "        print ('HE MISSED')"
   ]
  },
  {
   "cell_type": "code",
   "execution_count": 114,
   "id": "0f9d819b-68f0-4c23-8b43-4290a6439eca",
   "metadata": {},
   "outputs": [
    {
     "name": "stdout",
     "output_type": "stream",
     "text": [
      "WINNER\n"
     ]
    }
   ],
   "source": [
    "win_or_lose (0.435)"
   ]
  },
  {
   "cell_type": "code",
   "execution_count": 121,
   "id": "741eb984-5357-4e0a-b6f7-cd88be50d544",
   "metadata": {},
   "outputs": [],
   "source": [
    "'''\n",
    "You’re planning a trip around the world but can’t decide where you want to go. \n",
    "You decide to let the computer decide for you. \n",
    "Create a list of 10 countries you’d like to visit then create a function that takes a list of countries \n",
    "and randomly selects five different places from that list and prints out the results in the following format:\n",
    "'''\n",
    "\n",
    "\n",
    "# countries = ['Japan', 'Canada', 'England', 'French', 'Italy', 'Singapore', 'Brazil', 'Sweden', 'New Zealand', 'Australia']\n",
    "\n",
    "def five_darts (country_list):\n",
    "\n",
    "    top_5 = random.sample(countries, k=5)\n",
    "\n",
    "    for i in range(len(top_5)):\n",
    "        s = \"Country \" + str(i + 1) + \": \" + top_5[i] \n",
    "        print (s)"
   ]
  },
  {
   "cell_type": "code",
   "execution_count": 122,
   "id": "5a78343d-fbdf-4f75-87b1-3e40226401a6",
   "metadata": {},
   "outputs": [
    {
     "name": "stdout",
     "output_type": "stream",
     "text": [
      "Country 1: Australia\n",
      "Country 2: Brazil\n",
      "Country 3: New Zealand\n",
      "Country 4: Canada\n",
      "Country 5: England\n"
     ]
    }
   ],
   "source": [
    "countries = ['Japan', 'Canada', 'England', 'French', 'Italy', 'Singapore', 'Brazil', 'Sweden', 'New Zealand', 'Australia']\n",
    "\n",
    "five_darts (countries)"
   ]
  }
 ],
 "metadata": {
  "kernelspec": {
   "display_name": "Python 3 (ipykernel)",
   "language": "python",
   "name": "python3"
  },
  "language_info": {
   "codemirror_mode": {
    "name": "ipython",
    "version": 3
   },
   "file_extension": ".py",
   "mimetype": "text/x-python",
   "name": "python",
   "nbconvert_exporter": "python",
   "pygments_lexer": "ipython3",
   "version": "3.11.7"
  }
 },
 "nbformat": 4,
 "nbformat_minor": 5
}
