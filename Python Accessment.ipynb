{
 "cells": [
  {
   "cell_type": "code",
   "execution_count": 1,
   "id": "f4a7e4f0-2571-41eb-a6ce-36404ba3e55b",
   "metadata": {},
   "outputs": [],
   "source": [
    "# Write a function that takes in a string user input language and prints \"Hello World\" in the given language for exmple\n",
    "\n",
    "# hello_world(\"English\") should print \"Hello, world\" hello_world(\"French\") should print \"Bonjour, monde\" hello_world(\"Spanish\") should print \"Hola, mundo\""
   ]
  },
  {
   "cell_type": "code",
   "execution_count": null,
   "id": "baf1c749-7217-467e-864b-4d487adb9181",
   "metadata": {},
   "outputs": [],
   "source": []
  },
  {
   "cell_type": "code",
   "execution_count": 2,
   "id": "823da258-d88e-4b6c-a36e-bbcf17875229",
   "metadata": {},
   "outputs": [],
   "source": [
    "def hello_world(language: str)->None:\n",
    "    l = language.lower()\n",
    "    translated = GoogleTranslator(source='auto', target=l).translate(\"Hello, World\")\n",
    "    print (translated)\n",
    "    return translated"
   ]
  },
  {
   "cell_type": "code",
   "execution_count": 23,
   "id": "eeffefc2-abd9-4b81-ae70-8c14b681aadd",
   "metadata": {},
   "outputs": [
    {
     "name": "stdout",
     "output_type": "stream",
     "text": [
      "Hello, World\n"
     ]
    }
   ],
   "source": [
    "hello_world(\"English\")"
   ]
  },
  {
   "cell_type": "code",
   "execution_count": 24,
   "id": "23447b0e-9b59-4591-a73a-1ecb4a82a557",
   "metadata": {},
   "outputs": [],
   "source": [
    "# create a list of languages\n",
    "\n",
    "# iterate over the list and apply the function"
   ]
  },
  {
   "cell_type": "code",
   "execution_count": 27,
   "id": "08649cfb-9998-47e8-a6a3-420c88b321d4",
   "metadata": {},
   "outputs": [
    {
     "name": "stdout",
     "output_type": "stream",
     "text": [
      "Hello, World\n",
      "Hallo Welt\n",
      "Hola Mundo\n",
      "Xin chào thế giới\n",
      "مرحبا بالعالم\n",
      "안녕하세요, 세상\n",
      "Bonjour le monde\n"
     ]
    }
   ],
   "source": [
    "languages = [\"English\", \"German\", \"Spanish\", \"Vietnamese\", \"Arabic\", \"Korean\", \"French\"]\n",
    "list_translated = [hello_world(x) for x in languages]"
   ]
  },
  {
   "cell_type": "code",
   "execution_count": 29,
   "id": "8d839aa6-e825-48b5-abf5-01701df3f1b8",
   "metadata": {},
   "outputs": [],
   "source": [
    "import numpy as np\n",
    "def average(numbers:list[float])->float:\n",
    "    return np.mean(numbers)"
   ]
  },
  {
   "cell_type": "code",
   "execution_count": 30,
   "id": "d58b5225-0705-4867-8daf-34504f71f4a9",
   "metadata": {},
   "outputs": [
    {
     "data": {
      "text/plain": [
       "3.7857142857142856"
      ]
     },
     "execution_count": 30,
     "metadata": {},
     "output_type": "execute_result"
    }
   ],
   "source": [
    "average ([1,2,3,4.5,3,6,7])"
   ]
  },
  {
   "cell_type": "code",
   "execution_count": 58,
   "id": "68334f66-dcf5-4489-ad45-8b93e32075bf",
   "metadata": {},
   "outputs": [],
   "source": [
    "# Write a function that takes in a string and a character and returns the number of times that character appears.\n",
    "\n",
    "def count_occurences(text: str, search: str)->int:\n",
    "    n = np.char.count(text, search)\n",
    "    print(n)\n",
    "    return n"
   ]
  },
  {
   "cell_type": "code",
   "execution_count": 42,
   "id": "3aa44fb3-f93d-4177-8b5a-009b955a788c",
   "metadata": {},
   "outputs": [
    {
     "name": "stdout",
     "output_type": "stream",
     "text": [
      "2\n"
     ]
    }
   ],
   "source": [
    "count_occurences(\"hello world\", \"o\")"
   ]
  },
  {
   "cell_type": "code",
   "execution_count": 54,
   "id": "cfd3f164-2bc7-4287-bcc4-fa5dede541a7",
   "metadata": {},
   "outputs": [],
   "source": [
    "'''\n",
    "The most popular book on Project Gutenberg is currently Pride and Prejudice. Use your solution from problem 4 to count and visualize the occurence of each vowel (a,e,i,o,u) in the first chapter. You can find a digital copy of the book here\n",
    "\n",
    "You may copy and paste the text into the console for the input.\n",
    "\n",
    "Note: It is recommended that you use matplotlib for your display. seaborn is a great choice to make it more aesthetically appealing.\n",
    "'''\n",
    "\n",
    "f = open(\"/Users/phunguyen/Downloads/pg1342.txt\", \"r\")\n",
    "content = f.read()"
   ]
  },
  {
   "cell_type": "code",
   "execution_count": 55,
   "id": "8169eb3c-ab76-424e-88fb-b74ce51c4a24",
   "metadata": {},
   "outputs": [],
   "source": [
    "content = content.lower()"
   ]
  },
  {
   "cell_type": "code",
   "execution_count": 59,
   "id": "29d167fb-acdb-40a6-969d-9f884cdc9805",
   "metadata": {},
   "outputs": [
    {
     "name": "stdout",
     "output_type": "stream",
     "text": [
      "44834\n",
      "74451\n",
      "41198\n",
      "43381\n",
      "16304\n"
     ]
    }
   ],
   "source": [
    "vowel = [\"a\",\"e\",\"i\",\"o\",\"u\"]\n",
    "stats = [count_occurences(content,x) for x in vowel]"
   ]
  },
  {
   "cell_type": "code",
   "execution_count": 65,
   "id": "343bce7d-5cd1-4c7e-9f92-2b431a663033",
   "metadata": {},
   "outputs": [
    {
     "data": {
      "image/png": "[encoded data removed]",
      "text/plain": [
       "<Figure size 500x500 with 1 Axes>"
      ]
     },
     "metadata": {},
     "output_type": "display_data"
    }
   ],
   "source": [
    "import seaborn as sns\n",
    "import matplotlib.pyplot as plt\n",
    "\n",
    "fig = plt.figure(figsize=(5,5))\n",
    "ax = fig.add_subplot(111)\n",
    "ax.set_xlabel('Vowel')\n",
    "ax.set_ylabel(\"Occurence\")\n",
    "# ax.plot(np.array(list(range(len(x[0])))), x[0])\n",
    "ax.bar(vowel,stats)\n",
    "fig.tight_layout()"
   ]
  },
  {
   "cell_type": "code",
   "execution_count": null,
   "id": "fc176425-6229-49dd-8432-9b59010f71eb",
   "metadata": {},
   "outputs": [],
   "source": []
  }
 ],
 "metadata": {
  "kernelspec": {
   "display_name": "Python 3 (ipykernel)",
   "language": "python",
   "name": "python3"
  },
  "language_info": {
   "codemirror_mode": {
    "name": "ipython",
    "version": 3
   },
   "file_extension": ".py",
   "mimetype": "text/x-python",
   "name": "python",
   "nbconvert_exporter": "python",
   "pygments_lexer": "ipython3",
   "version": "3.12.4"
  }
 },
 "nbformat": 4,
 "nbformat_minor": 5
}
