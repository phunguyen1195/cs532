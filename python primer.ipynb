{
 "cells": [
  {
   "cell_type": "code",
   "execution_count": 8,
   "id": "ac0828ec-47aa-4de5-89dc-04184f822eb7",
   "metadata": {},
   "outputs": [
    {
     "name": "stdout",
     "output_type": "stream",
     "text": [
      "7\n"
     ]
    }
   ],
   "source": [
    "# Dictionary\n",
    "\n",
    "fish = {'flouder':5,'bass':7,'pike':1}\n",
    "\n",
    "print (fish['bass'])"
   ]
  },
  {
   "cell_type": "code",
   "execution_count": 9,
   "id": "a2dbecc2-1c3c-4b70-b4e5-9606f660735a",
   "metadata": {},
   "outputs": [
    {
     "name": "stdout",
     "output_type": "stream",
     "text": [
      "krill\n"
     ]
    }
   ],
   "source": [
    "# List\n",
    "\n",
    "fish = ['bass','flouder','pike',5,7,['krill','prawn','plankton']]\n",
    "\n",
    "print (fish[-1][0])"
   ]
  },
  {
   "cell_type": "code",
   "execution_count": 10,
   "id": "7509cc6c-4bb2-4491-99cc-a04237e8a686",
   "metadata": {},
   "outputs": [],
   "source": [
    "def add_item (fish_list):\n",
    "    new_fish_list = fish_list\n",
    "    new_fish_list.append('tuna')\n",
    "    temp = 'potato'\n",
    "    return new_fish_list"
   ]
  },
  {
   "cell_type": "code",
   "execution_count": 11,
   "id": "bd471f86-25aa-4db7-9efc-5833e04014f5",
   "metadata": {},
   "outputs": [
    {
     "data": {
      "text/plain": [
       "['bass', 'flouder', 'pike', 5, 7, ['krill', 'prawn', 'plankton'], 'tuna']"
      ]
     },
     "execution_count": 11,
     "metadata": {},
     "output_type": "execute_result"
    }
   ],
   "source": [
    "add_item (fish)"
   ]
  },
  {
   "cell_type": "code",
   "execution_count": 12,
   "id": "d957e334-a04a-41a0-90e4-49d5dfcd9dc4",
   "metadata": {},
   "outputs": [
    {
     "ename": "NameError",
     "evalue": "name 'temp' is not defined",
     "output_type": "error",
     "traceback": [
      "\u001b[0;31m---------------------------------------------------------------------------\u001b[0m",
      "\u001b[0;31mNameError\u001b[0m                                 Traceback (most recent call last)",
      "Cell \u001b[0;32mIn[12], line 1\u001b[0m\n\u001b[0;32m----> 1\u001b[0m temp\n",
      "\u001b[0;31mNameError\u001b[0m: name 'temp' is not defined"
     ]
    }
   ],
   "source": [
    "temp"
   ]
  },
  {
   "cell_type": "code",
   "execution_count": null,
   "id": "b2963ab6-9a65-4e92-af52-552b122cffc1",
   "metadata": {},
   "outputs": [],
   "source": []
  }
 ],
 "metadata": {
  "kernelspec": {
   "display_name": "Python 3 (ipykernel)",
   "language": "python",
   "name": "python3"
  },
  "language_info": {
   "codemirror_mode": {
    "name": "ipython",
    "version": 3
   },
   "file_extension": ".py",
   "mimetype": "text/x-python",
   "name": "python",
   "nbconvert_exporter": "python",
   "pygments_lexer": "ipython3",
   "version": "3.11.7"
  }
 },
 "nbformat": 4,
 "nbformat_minor": 5
}
