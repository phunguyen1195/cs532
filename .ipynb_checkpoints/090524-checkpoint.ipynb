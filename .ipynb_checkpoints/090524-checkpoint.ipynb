{
 "cells": [
  {
   "cell_type": "code",
   "execution_count": 1,
   "id": "c14324b1-9cb5-4a72-90d1-439377ead7e9",
   "metadata": {},
   "outputs": [],
   "source": [
    "import random\n",
    "import matplotlib.pyplot as plt"
   ]
  },
  {
   "cell_type": "code",
   "execution_count": 79,
   "id": "127bc24a-b502-4569-9484-be00f99556b2",
   "metadata": {},
   "outputs": [],
   "source": [
    "class DiceSim():\n",
    "    def __init__(self):\n",
    "        self.data = []\n",
    "\n",
    "    def add_roll (self, num_rolls):\n",
    "        for i in range(num_rolls):\n",
    "            self.data.append(random.randint(1,6))\n",
    "\n",
    "    def prob_of_roll (self, dice_value):\n",
    "        num_successful_rolls = self.data.count(dice_value)\n",
    "        return num_successful_rolls/len(self.data)"
   ]
  },
  {
   "cell_type": "code",
   "execution_count": 57,
   "id": "efa45970-247f-41ee-b165-f4e656752769",
   "metadata": {},
   "outputs": [],
   "source": [
    "class DoubleDiceSim ():\n",
    "    def __init__(self):\n",
    "        self.first_roll = []\n",
    "        self.second_roll = []\n",
    "\n",
    "    def add_rolls (self, num_rolls):\n",
    "        for i in range(num_rolls):\n",
    "            self.first_roll.append(random.randint(1,6))\n",
    "            self.second_roll.append(random.randint(1,6))\n",
    "\n",
    "    def combine_rolls (self):\n",
    "        self.combined_rolls = [i+j for i,j in zip(self.first_roll, self.second_roll)]\n",
    "\n",
    "    def pro_of_roll (self, dice_value):\n",
    "        num_successful_rolls = self.combined_rolls.count(dice_value)\n",
    "        return num_successful_rolls/len(self.combined_rolls)"
   ]
  },
  {
   "cell_type": "markdown",
   "id": "d5633ecb-e483-4c54-8cc6-99ee5a21f5ec",
   "metadata": {},
   "source": [
    "# Execution"
   ]
  },
  {
   "cell_type": "markdown",
   "id": "b191fb22-d650-45c3-9f9f-4a380b54adb0",
   "metadata": {},
   "source": [
    "## Dice"
   ]
  },
  {
   "cell_type": "code",
   "execution_count": 80,
   "id": "df95127a-1377-49ce-b8dc-85cc8b1a61e8",
   "metadata": {},
   "outputs": [],
   "source": [
    "dice_sim = DiceSim()"
   ]
  },
  {
   "cell_type": "code",
   "execution_count": 81,
   "id": "a12d9f9a-6577-4bef-9718-abb0f437738c",
   "metadata": {},
   "outputs": [
    {
     "name": "stdout",
     "output_type": "stream",
     "text": [
      "[]\n"
     ]
    }
   ],
   "source": [
    "print (dice_sim.data)"
   ]
  },
  {
   "cell_type": "code",
   "execution_count": 82,
   "id": "558cac9f-0cd3-4628-bed4-8f5f3929aa22",
   "metadata": {},
   "outputs": [],
   "source": [
    "dice_sim.add_roll(3000000)"
   ]
  },
  {
   "cell_type": "code",
   "execution_count": 83,
   "id": "94f35754-659d-49a5-8760-7abe5039b9d3",
   "metadata": {},
   "outputs": [
    {
     "name": "stdout",
     "output_type": "stream",
     "text": [
      "3000000 [3, 3, 2, 2, 1]\n"
     ]
    }
   ],
   "source": [
    "print (len(dice_sim.data),dice_sim.data[-5:])"
   ]
  },
  {
   "cell_type": "code",
   "execution_count": 84,
   "id": "29c567bd-d3ba-4321-9c6d-8950f8f1d475",
   "metadata": {},
   "outputs": [
    {
     "name": "stdout",
     "output_type": "stream",
     "text": [
      "0.166508\n"
     ]
    }
   ],
   "source": [
    "print (dice_sim.prob_of_roll(3))"
   ]
  },
  {
   "cell_type": "markdown",
   "id": "917570d4-140f-40cf-8650-7325ce76a109",
   "metadata": {},
   "source": [
    "## Double Dice"
   ]
  },
  {
   "cell_type": "code",
   "execution_count": 85,
   "id": "622778bf-b57d-40a8-a69a-7c76d20e740b",
   "metadata": {},
   "outputs": [],
   "source": [
    "dd = DoubleDiceSim()"
   ]
  },
  {
   "cell_type": "code",
   "execution_count": 86,
   "id": "1016e54b-0f36-488f-bf21-477057e8507f",
   "metadata": {},
   "outputs": [],
   "source": [
    "dd.add_rolls(3000000)"
   ]
  },
  {
   "cell_type": "code",
   "execution_count": 87,
   "id": "abe1c5b7-52eb-46c1-9065-6fc0637e82b2",
   "metadata": {},
   "outputs": [],
   "source": [
    "dd.combine_rolls()"
   ]
  },
  {
   "cell_type": "code",
   "execution_count": 88,
   "id": "cd46efbf-2acf-4c0f-9887-d8a5b73e4b8c",
   "metadata": {},
   "outputs": [
    {
     "data": {
      "text/plain": [
       "3000000"
      ]
     },
     "execution_count": 88,
     "metadata": {},
     "output_type": "execute_result"
    }
   ],
   "source": [
    "len(dd.combined_rolls)"
   ]
  },
  {
   "cell_type": "code",
   "execution_count": 89,
   "id": "9caf7558-1f5a-4150-903a-b999e3a3ea07",
   "metadata": {},
   "outputs": [
    {
     "data": {
      "text/plain": [
       "0.16698666666666667"
      ]
     },
     "execution_count": 89,
     "metadata": {},
     "output_type": "execute_result"
    }
   ],
   "source": [
    "dd.pro_of_roll(7)"
   ]
  },
  {
   "cell_type": "raw",
   "id": "8bd9fcb8-21e1-4ef8-8604-010d851a2f81",
   "metadata": {},
   "source": [
    "jack king queen = 10\n",
    "ace = 1\n",
    "52 cards\n",
    "with replacements\n",
    "\n",
    "keep adding cards loose when over 21\n",
    "then the house done\n",
    "\n",
    "probability >= 17 and <= 21\n",
    "dealler always get 17"
   ]
  },
  {
   "cell_type": "code",
   "execution_count": 159,
   "id": "4df40ec2-4432-4ea9-91c5-c8916fbb7aff",
   "metadata": {},
   "outputs": [],
   "source": [
    "class Blackjack ():\n",
    "    def __init__(self):\n",
    "        self.results = []\n",
    "\n",
    "    def simulation (self, hands):\n",
    "        sampler = [1,2,3,4,5,6,7,8,9,10,10,10]\n",
    "        \n",
    "        for i in range(hands):\n",
    "            total = 0\n",
    "            while total <= 17:\n",
    "                total += random.choice(sampler)\n",
    "            if total > 21:\n",
    "                self.results.append('bust')\n",
    "            else:\n",
    "                self.results.append('success')\n",
    "\n",
    "\n",
    "    def pro_of_winning (self):\n",
    "        return self.results.count('success')/len(self.results)"
   ]
  },
  {
   "cell_type": "code",
   "execution_count": 163,
   "id": "7e167685-191e-4c72-b1eb-0e07b821cca6",
   "metadata": {},
   "outputs": [],
   "source": [
    "play = Blackjack()"
   ]
  },
  {
   "cell_type": "code",
   "execution_count": 185,
   "id": "f7643349-267c-4707-8bff-2bd06927d2b0",
   "metadata": {},
   "outputs": [],
   "source": [
    "play.simulation(2000000)"
   ]
  },
  {
   "cell_type": "code",
   "execution_count": 186,
   "id": "2a4da9a2-ed86-4e00-add7-647b3c4ab9d6",
   "metadata": {},
   "outputs": [
    {
     "data": {
      "text/plain": [
       "0.58899565"
      ]
     },
     "execution_count": 186,
     "metadata": {},
     "output_type": "execute_result"
    }
   ],
   "source": [
    "play.pro_of_winning()"
   ]
  },
  {
   "cell_type": "code",
   "execution_count": 187,
   "id": "3e397495-0927-448d-8c70-3f2e24493427",
   "metadata": {},
   "outputs": [
    {
     "data": {
      "text/plain": [
       "20000000"
      ]
     },
     "execution_count": 187,
     "metadata": {},
     "output_type": "execute_result"
    }
   ],
   "source": [
    "len(play.results)"
   ]
  },
  {
   "cell_type": "code",
   "execution_count": null,
   "id": "e68cde1f-a117-4ddd-b398-ff4dbe3460da",
   "metadata": {},
   "outputs": [],
   "source": []
  }
 ],
 "metadata": {
  "kernelspec": {
   "display_name": "Python 3 (ipykernel)",
   "language": "python",
   "name": "python3"
  },
  "language_info": {
   "codemirror_mode": {
    "name": "ipython",
    "version": 3
   },
   "file_extension": ".py",
   "mimetype": "text/x-python",
   "name": "python",
   "nbconvert_exporter": "python",
   "pygments_lexer": "ipython3",
   "version": "3.11.7"
  }
 },
 "nbformat": 4,
 "nbformat_minor": 5
}
