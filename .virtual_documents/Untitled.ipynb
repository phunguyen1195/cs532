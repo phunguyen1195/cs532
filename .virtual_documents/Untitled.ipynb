import random


num_dogs = 22
num_crabs = 13
num_cats = 22


print (int(num_dogs>num_crabs))


print (num_dogs == num_crabs)


print (int(num_dogs == num_crabs))


print (num_dogs >= num_cats)


print (num_cats <= num_crabs)


print (num_cats < num_dogs or num_dogs > num_crabs)


print (num_cats == num_dogs and num_dogs > num_crabs)


print (num_cats == num_dogs and num_dogs > num_crabs and num_cats < num_crabs)


print ((num_cats == num_dogs and num_dogs > num_crabs) or num_cats < num_crabs)





if num_cats < num_crabs:
    print ('crab extinction')


num_crabs = 22
num_cats = 22
if num_cats >= num_crabs:
    print ('crab extinction')
elif num_cats <= num_crabs:
    print ('lobster party')


if num_dogs > num_cats:
    print ("all dogs go to heaven")
elif num_dogs < num_cats:
    print ("cats the musical")
else:
    print("peace and harmony")





print (random.uniform(2,5))


def flip_coin ():
    flip = random.uniform(0,1)
    if flip < 0.5:
        return 'tails'
    else:
        return 'heads'


flip_coin()





flip_data = [flip_coin() for i in range(10)]


flip_data


flip_data = [flip_coin() for i in range(1000000)]


temp = 0
for i in flip_data:
    if i == "heads":
        temp = temp + 1


temp


len([x for x in flip_data if x == 'heads'])


flip_data.count('heads')


def flips_until_heads(data_list, num_data_points):
    for i in range(num_data_points):
        tails_count = 0
        flip = flip_coin()
        while flip == 'tails':
            flip = flip_coin()
            tails_count += 1
        data_list.append(tails_count)
    return data_list


num_tails = []
print (flips_until_heads(num_tails,6))



